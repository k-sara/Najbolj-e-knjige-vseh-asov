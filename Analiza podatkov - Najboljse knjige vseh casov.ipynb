{
 "cells": [
  {
   "cell_type": "code",
   "execution_count": 1,
   "metadata": {
    "collapsed": true
   },
   "outputs": [],
   "source": [
    "import pandas as pd"
   ]
  },
  {
   "cell_type": "code",
   "execution_count": 4,
   "metadata": {},
   "outputs": [],
   "source": [
    "knjige = pd.read_csv('najboljse_knjige_vseh_casov.csv', index_col='id')"
   ]
  },
  {
   "cell_type": "code",
   "execution_count": 5,
   "metadata": {},
   "outputs": [
    {
     "data": {
      "text/html": [
       "<div>\n",
       "<style>\n",
       "    .dataframe thead tr:only-child th {\n",
       "        text-align: right;\n",
       "    }\n",
       "\n",
       "    .dataframe thead th {\n",
       "        text-align: left;\n",
       "    }\n",
       "\n",
       "    .dataframe tbody tr th {\n",
       "        vertical-align: top;\n",
       "    }\n",
       "</style>\n",
       "<table border=\"1\" class=\"dataframe\">\n",
       "  <thead>\n",
       "    <tr style=\"text-align: right;\">\n",
       "      <th></th>\n",
       "      <th>naslov</th>\n",
       "      <th>avtor</th>\n",
       "      <th>ocene</th>\n",
       "      <th>povprecje</th>\n",
       "      <th>stevilo_glasujocih</th>\n",
       "      <th>tocke</th>\n",
       "    </tr>\n",
       "    <tr>\n",
       "      <th>id</th>\n",
       "      <th></th>\n",
       "      <th></th>\n",
       "      <th></th>\n",
       "      <th></th>\n",
       "      <th></th>\n",
       "      <th></th>\n",
       "    </tr>\n",
       "  </thead>\n",
       "  <tbody>\n",
       "    <tr>\n",
       "      <th>2767052</th>\n",
       "      <td>The Hunger Games</td>\n",
       "      <td>Suzanne Collins</td>\n",
       "      <td>5,185,834</td>\n",
       "      <td>4.34</td>\n",
       "      <td>28,343</td>\n",
       "      <td>2,780,502</td>\n",
       "    </tr>\n",
       "    <tr>\n",
       "      <th>2</th>\n",
       "      <td>Harry Potter and the Order of the Phoenix</td>\n",
       "      <td>J.K. Rowling</td>\n",
       "      <td>1,913,035</td>\n",
       "      <td>4.47</td>\n",
       "      <td>24,271</td>\n",
       "      <td>2,371,475</td>\n",
       "    </tr>\n",
       "    <tr>\n",
       "      <th>2657</th>\n",
       "      <td>To Kill a Mockingbird</td>\n",
       "      <td>Harper Lee</td>\n",
       "      <td>3,461,327</td>\n",
       "      <td>4.26</td>\n",
       "      <td>20,456</td>\n",
       "      <td>1,987,103</td>\n",
       "    </tr>\n",
       "    <tr>\n",
       "      <th>1885</th>\n",
       "      <td>Pride and Prejudice</td>\n",
       "      <td>Jane Austen</td>\n",
       "      <td>2,298,359</td>\n",
       "      <td>4.25</td>\n",
       "      <td>17,659</td>\n",
       "      <td>1,709,202</td>\n",
       "    </tr>\n",
       "    <tr>\n",
       "      <th>41865</th>\n",
       "      <td>Twilight</td>\n",
       "      <td>Stephenie Meyer</td>\n",
       "      <td>4,065,182</td>\n",
       "      <td>3.57</td>\n",
       "      <td>14,320</td>\n",
       "      <td>1,405,717</td>\n",
       "    </tr>\n",
       "  </tbody>\n",
       "</table>\n",
       "</div>"
      ],
      "text/plain": [
       "                                            naslov            avtor  \\\n",
       "id                                                                    \n",
       "2767052                           The Hunger Games  Suzanne Collins   \n",
       "2        Harry Potter and the Order of the Phoenix     J.K. Rowling   \n",
       "2657                         To Kill a Mockingbird       Harper Lee   \n",
       "1885                           Pride and Prejudice      Jane Austen   \n",
       "41865                                     Twilight  Stephenie Meyer   \n",
       "\n",
       "             ocene  povprecje stevilo_glasujocih      tocke  \n",
       "id                                                           \n",
       "2767052  5,185,834       4.34             28,343  2,780,502  \n",
       "2        1,913,035       4.47             24,271  2,371,475  \n",
       "2657     3,461,327       4.26             20,456  1,987,103  \n",
       "1885     2,298,359       4.25             17,659  1,709,202  \n",
       "41865    4,065,182       3.57             14,320  1,405,717  "
      ]
     },
     "execution_count": 5,
     "metadata": {},
     "output_type": "execute_result"
    }
   ],
   "source": [
    "knjige.head()"
   ]
  },
  {
   "cell_type": "code",
   "execution_count": null,
   "metadata": {
    "collapsed": true
   },
   "outputs": [],
   "source": []
  }
 ],
 "metadata": {
  "kernelspec": {
   "display_name": "Python 3",
   "language": "python",
   "name": "python3"
  },
  "language_info": {
   "codemirror_mode": {
    "name": "ipython",
    "version": 3
   },
   "file_extension": ".py",
   "mimetype": "text/x-python",
   "name": "python",
   "nbconvert_exporter": "python",
   "pygments_lexer": "ipython3",
   "version": "3.6.3"
  }
 },
 "nbformat": 4,
 "nbformat_minor": 2
}
