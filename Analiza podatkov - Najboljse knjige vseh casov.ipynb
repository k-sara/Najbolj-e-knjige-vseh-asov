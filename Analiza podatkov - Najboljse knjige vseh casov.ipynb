{
 "cells": [
  {
   "cell_type": "code",
   "execution_count": 1,
   "metadata": {
    "collapsed": true
   },
   "outputs": [],
   "source": [
    "import pandas as pd"
   ]
  },
  {
   "cell_type": "code",
   "execution_count": 2,
   "metadata": {
    "collapsed": true
   },
   "outputs": [],
   "source": [
    "knjige = pd.read_csv('najboljse_knjige_vseh_casov.csv', index_col='id')"
   ]
  },
  {
   "cell_type": "code",
   "execution_count": 61,
   "metadata": {},
   "outputs": [],
   "source": [
    "pd.options.display.max_rows = 20"
   ]
  },
  {
   "cell_type": "markdown",
   "metadata": {},
   "source": [
    "Zanima me kdo je najbolj bran avtor."
   ]
  },
  {
   "cell_type": "code",
   "execution_count": 21,
   "metadata": {
    "collapsed": true
   },
   "outputs": [],
   "source": [
    "knjige_po_avtorjih = knjige.groupby('avtor')"
   ]
  },
  {
   "cell_type": "code",
   "execution_count": 26,
   "metadata": {},
   "outputs": [],
   "source": [
    "naj_avtorji = knjige_po_avtorjih.size().sort_values(ascending=False)"
   ]
  },
  {
   "cell_type": "code",
   "execution_count": 32,
   "metadata": {},
   "outputs": [
    {
     "data": {
      "text/plain": [
       "avtor\n",
       "Stephen King              33\n",
       "Terry Pratchett           20\n",
       "Rick Riordan              19\n",
       "Nicholas Sparks           17\n",
       "William Shakespeare       16\n",
       "Richelle Mead             14\n",
       "C.S. Lewis                13\n",
       "Charles Dickens           12\n",
       "J.K. Rowling              11\n",
       "James Patterson           11\n",
       "Cassandra Clare           11\n",
       "Jennifer L. Armentrout    11\n",
       "Anne Rice                 10\n",
       "Dr. Seuss                 10\n",
       "L.J. Smith                10\n",
       "dtype: int64"
      ]
     },
     "execution_count": 32,
     "metadata": {},
     "output_type": "execute_result"
    }
   ],
   "source": [
    "naj_avtorji[:15]"
   ]
  },
  {
   "cell_type": "code",
   "execution_count": 34,
   "metadata": {},
   "outputs": [],
   "source": [
    "avtorji_po_povprečjih = knjige_po_avtorjih.mean()['povprecje'].sort_values(ascending=False)"
   ]
  },
  {
   "cell_type": "code",
   "execution_count": 35,
   "metadata": {},
   "outputs": [
    {
     "data": {
      "text/plain": [
       "avtor\n",
       "Gabrielle Estres       4.790000\n",
       "Bill Watterson         4.726667\n",
       "Gordon B. Hinckley     4.610000\n",
       "Amit Ray               4.590000\n",
       "Francine Rivers        4.563333\n",
       "Patrick Rothfuss       4.560000\n",
       "Zoltan Andrejkovics    4.560000\n",
       "Karen Brueggeman       4.540000\n",
       "Founding Fathers       4.540000\n",
       "Shelby Foote           4.530000\n",
       "Sarah J. Maas          4.513000\n",
       "Ted Bernal Guevara     4.500000\n",
       "Jorge Luis Borges      4.500000\n",
       "Fernando Pessoa        4.500000\n",
       "Hiromu Arakawa         4.490000\n",
       "Name: povprecje, dtype: float64"
      ]
     },
     "execution_count": 35,
     "metadata": {},
     "output_type": "execute_result"
    }
   ],
   "source": [
    "avtorji_po_povprečjih[:15]"
   ]
  },
  {
   "cell_type": "markdown",
   "metadata": {},
   "source": [
    "Sedaj želim izvedeti, kakšna je popularnost knjig glede na leto njihove izdaje in leto izdaje njihove prve verzije"
   ]
  },
  {
   "cell_type": "code",
   "execution_count": 36,
   "metadata": {
    "collapsed": true
   },
   "outputs": [],
   "source": [
    "knjige_po_letih = knjige.groupby('leto_objave')"
   ]
  },
  {
   "cell_type": "code",
   "execution_count": 41,
   "metadata": {},
   "outputs": [
    {
     "data": {
      "text/plain": [
       "leto_objave\n",
       "2006.0    178\n",
       "2003.0    132\n",
       "2005.0    122\n",
       "2004.0    120\n",
       "2002.0    112\n",
       "2007.0    104\n",
       "2010.0    102\n",
       "2009.0    100\n",
       "2012.0     95\n",
       "2011.0     88\n",
       "         ... \n",
       "1957.0      1\n",
       "1963.0      1\n",
       "1961.0      1\n",
       "1981.0      1\n",
       "1966.0      1\n",
       "1971.0      1\n",
       "1973.0      1\n",
       "1974.0      1\n",
       "1975.0      1\n",
       "1912.0      1\n",
       "Length: 62, dtype: int64"
      ]
     },
     "execution_count": 41,
     "metadata": {},
     "output_type": "execute_result"
    }
   ],
   "source": [
    "knjige_po_letih.size().sort_values(ascending=False)"
   ]
  },
  {
   "cell_type": "code",
   "execution_count": 42,
   "metadata": {
    "collapsed": true
   },
   "outputs": [],
   "source": [
    "knjige_po_letih_prvih_izdaj = knjige.groupby('leto_izdaje')"
   ]
  },
  {
   "cell_type": "code",
   "execution_count": 43,
   "metadata": {},
   "outputs": [
    {
     "data": {
      "text/plain": [
       "leto_izdaje\n",
       "2006.0    23\n",
       "2001.0    21\n",
       "2005.0    20\n",
       "1998.0    19\n",
       "2003.0    19\n",
       "1985.0    17\n",
       "1995.0    17\n",
       "1987.0    15\n",
       "1996.0    15\n",
       "2000.0    15\n",
       "          ..\n",
       "1842.0     1\n",
       "1847.0     1\n",
       "1848.0     1\n",
       "1854.0     1\n",
       "1856.0     1\n",
       "1859.0     1\n",
       "1861.0     1\n",
       "1865.0     1\n",
       "1871.0     1\n",
       "1008.0     1\n",
       "Length: 196, dtype: int64"
      ]
     },
     "execution_count": 43,
     "metadata": {},
     "output_type": "execute_result"
    }
   ],
   "source": [
    "knjige_po_letih_prvih_izdaj.size().sort_values(ascending=False)"
   ]
  },
  {
   "cell_type": "markdown",
   "metadata": {},
   "source": [
    "Vidimo, da se najpogostejše pojavljeno leto prvih izdaj ujema z najpogostejše pojavljenim letom izdaj ocenjenih knjig."
   ]
  },
  {
   "cell_type": "code",
   "execution_count": 44,
   "metadata": {
    "collapsed": true
   },
   "outputs": [],
   "source": [
    "%matplotlib inline"
   ]
  },
  {
   "cell_type": "code",
   "execution_count": 50,
   "metadata": {},
   "outputs": [
    {
     "data": {
      "text/plain": [
       "<matplotlib.axes._subplots.AxesSubplot at 0x23dc5324be0>"
      ]
     },
     "execution_count": 50,
     "metadata": {},
     "output_type": "execute_result"
    },
    {
     "data": {
      "image/png": "[encoded data removed]",
      "text/plain": [
       "<matplotlib.figure.Figure at 0x23dc523f978>"
      ]
     },
     "metadata": {},
     "output_type": "display_data"
    }
   ],
   "source": [
    "knjige_po_letih.size().plot() and knjige_po_letih_prvih_izdaj.size().plot()"
   ]
  },
  {
   "cell_type": "markdown",
   "metadata": {},
   "source": [
    "Tudi graf pokaže, da je popularnost po letih izdaje ocenjenih verzij in letih prvotnih izdaj kar usklajena."
   ]
  },
  {
   "cell_type": "code",
   "execution_count": 51,
   "metadata": {
    "collapsed": true
   },
   "outputs": [],
   "source": [
    "knjige_po_jezikih = knjige.groupby('jezik')"
   ]
  },
  {
   "cell_type": "code",
   "execution_count": 53,
   "metadata": {},
   "outputs": [
    {
     "data": {
      "text/plain": [
       "jezik\n",
       "English               1951\n",
       "Spanish                  9\n",
       "German                   5\n",
       "French                   5\n",
       "Arabic                   5\n",
       "Portuguese               2\n",
       "Turkish                  1\n",
       "Persian                  1\n",
       "Multiple languages       1\n",
       "Indonesian               1\n",
       "dtype: int64"
      ]
     },
     "execution_count": 53,
     "metadata": {},
     "output_type": "execute_result"
    }
   ],
   "source": [
    "knjige_po_jezikih.size().sort_values(ascending=False)"
   ]
  },
  {
   "cell_type": "markdown",
   "metadata": {},
   "source": [
    "Največ je knjig napisanih v angleščini, kar je tudi pričakovano, glede na to da je vir podatkov angleškega izvora. "
   ]
  },
  {
   "cell_type": "code",
   "execution_count": 55,
   "metadata": {},
   "outputs": [
    {
     "data": {
      "text/plain": [
       "jezik\n",
       "Turkish               4.480000\n",
       "Multiple languages    4.460000\n",
       "Indonesian            4.380000\n",
       "Arabic                4.202000\n",
       "German                4.156000\n",
       "Persian               4.090000\n",
       "English               4.065023\n",
       "Spanish               3.952222\n",
       "French                3.826000\n",
       "Portuguese            3.725000\n",
       "Name: povprecje, dtype: float64"
      ]
     },
     "execution_count": 55,
     "metadata": {},
     "output_type": "execute_result"
    }
   ],
   "source": [
    "knjige_po_jezikih.mean()['povprecje'].sort_values(ascending=False)"
   ]
  },
  {
   "cell_type": "code",
   "execution_count": null,
   "metadata": {
    "collapsed": true
   },
   "outputs": [],
   "source": []
  }
 ],
 "metadata": {
  "kernelspec": {
   "display_name": "Python 3",
   "language": "python",
   "name": "python3"
  },
  "language_info": {
   "codemirror_mode": {
    "name": "ipython",
    "version": 3
   },
   "file_extension": ".py",
   "mimetype": "text/x-python",
   "name": "python",
   "nbconvert_exporter": "python",
   "pygments_lexer": "ipython3",
   "version": "3.6.3"
  }
 },
 "nbformat": 4,
 "nbformat_minor": 2
}
