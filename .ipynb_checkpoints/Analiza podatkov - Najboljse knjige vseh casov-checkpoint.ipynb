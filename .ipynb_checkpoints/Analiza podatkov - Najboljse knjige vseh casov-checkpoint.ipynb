{
 "cells": [
  {
   "cell_type": "markdown",
   "metadata": {},
   "source": [
    "# Analiza podatkov: Najboljše knjige vseh časov\n",
    "\n",
    "Analiza 2000 knjig iz seznama najboljših knjig vseh časov s strani Goodreads. Seznam zbranih podatkov je urejen glede na točke posamezne knjige, ki so predvsem odvisne od števila glasujočih ljudi in njihovih ocen. Zbrani podatki vključujejo id knjige, naslov knjige, avtorja knjige, število ocen, povprečje vseh ocen, število glasujočih, zbrane točke, jezik, leto objave ocenjene knjige in leto izdaje prve verzije ocenjene knjige."
   ]
  },
  {
   "cell_type": "code",
   "execution_count": 5,
   "metadata": {},
   "outputs": [
    {
     "data": {
      "text/html": [
       "<div>\n",
       "<style scoped>\n",
       "    .dataframe tbody tr th:only-of-type {\n",
       "        vertical-align: middle;\n",
       "    }\n",
       "\n",
       "    .dataframe tbody tr th {\n",
       "        vertical-align: top;\n",
       "    }\n",
       "\n",
       "    .dataframe thead th {\n",
       "        text-align: right;\n",
       "    }\n",
       "</style>\n",
       "<table border=\"1\" class=\"dataframe\">\n",
       "  <thead>\n",
       "    <tr style=\"text-align: right;\">\n",
       "      <th></th>\n",
       "      <th>naslov</th>\n",
       "      <th>avtor</th>\n",
       "      <th>ocene</th>\n",
       "      <th>povprecje</th>\n",
       "      <th>stevilo_glasujocih</th>\n",
       "      <th>tocke</th>\n",
       "      <th>jezik</th>\n",
       "      <th>leto_objave</th>\n",
       "      <th>leto_izdaje</th>\n",
       "    </tr>\n",
       "    <tr>\n",
       "      <th>id</th>\n",
       "      <th></th>\n",
       "      <th></th>\n",
       "      <th></th>\n",
       "      <th></th>\n",
       "      <th></th>\n",
       "      <th></th>\n",
       "      <th></th>\n",
       "      <th></th>\n",
       "      <th></th>\n",
       "    </tr>\n",
       "  </thead>\n",
       "  <tbody>\n",
       "    <tr>\n",
       "      <th>2767052</th>\n",
       "      <td>The Hunger Games</td>\n",
       "      <td>Suzanne Collins</td>\n",
       "      <td>5,185,834</td>\n",
       "      <td>4.34</td>\n",
       "      <td>28,343</td>\n",
       "      <td>2,780,502</td>\n",
       "      <td>English</td>\n",
       "      <td>2008.0</td>\n",
       "      <td>NaN</td>\n",
       "    </tr>\n",
       "    <tr>\n",
       "      <th>2</th>\n",
       "      <td>Harry Potter and the Order of the Phoenix</td>\n",
       "      <td>J.K. Rowling</td>\n",
       "      <td>1,913,035</td>\n",
       "      <td>4.47</td>\n",
       "      <td>24,271</td>\n",
       "      <td>2,371,475</td>\n",
       "      <td>English</td>\n",
       "      <td>2004.0</td>\n",
       "      <td>NaN</td>\n",
       "    </tr>\n",
       "    <tr>\n",
       "      <th>2657</th>\n",
       "      <td>To Kill a Mockingbird</td>\n",
       "      <td>Harper Lee</td>\n",
       "      <td>3,461,327</td>\n",
       "      <td>4.26</td>\n",
       "      <td>20,456</td>\n",
       "      <td>1,987,103</td>\n",
       "      <td>English</td>\n",
       "      <td>2006.0</td>\n",
       "      <td>NaN</td>\n",
       "    </tr>\n",
       "    <tr>\n",
       "      <th>1885</th>\n",
       "      <td>Pride and Prejudice</td>\n",
       "      <td>Jane Austen</td>\n",
       "      <td>2,298,359</td>\n",
       "      <td>4.25</td>\n",
       "      <td>17,659</td>\n",
       "      <td>1,709,202</td>\n",
       "      <td>English</td>\n",
       "      <td>2000.0</td>\n",
       "      <td>1813.0</td>\n",
       "    </tr>\n",
       "    <tr>\n",
       "      <th>41865</th>\n",
       "      <td>Twilight</td>\n",
       "      <td>Stephenie Meyer</td>\n",
       "      <td>4,065,182</td>\n",
       "      <td>3.57</td>\n",
       "      <td>14,320</td>\n",
       "      <td>1,405,717</td>\n",
       "      <td>English</td>\n",
       "      <td>2006.0</td>\n",
       "      <td>NaN</td>\n",
       "    </tr>\n",
       "    <tr>\n",
       "      <th>19063</th>\n",
       "      <td>The Book Thief</td>\n",
       "      <td>Markus Zusak</td>\n",
       "      <td>1,364,387</td>\n",
       "      <td>4.36</td>\n",
       "      <td>11,942</td>\n",
       "      <td>1,154,375</td>\n",
       "      <td>English</td>\n",
       "      <td>2006.0</td>\n",
       "      <td>2005.0</td>\n",
       "    </tr>\n",
       "    <tr>\n",
       "      <th>11127</th>\n",
       "      <td>The Chronicles of Narnia</td>\n",
       "      <td>C.S. Lewis</td>\n",
       "      <td>416,104</td>\n",
       "      <td>4.25</td>\n",
       "      <td>11,846</td>\n",
       "      <td>1,130,634</td>\n",
       "      <td>English</td>\n",
       "      <td>2002.0</td>\n",
       "      <td>1956.0</td>\n",
       "    </tr>\n",
       "    <tr>\n",
       "      <th>7613</th>\n",
       "      <td>Animal Farm</td>\n",
       "      <td>George Orwell</td>\n",
       "      <td>2,084,122</td>\n",
       "      <td>3.88</td>\n",
       "      <td>11,553</td>\n",
       "      <td>1,110,955</td>\n",
       "      <td>English</td>\n",
       "      <td>2003.0</td>\n",
       "      <td>NaN</td>\n",
       "    </tr>\n",
       "    <tr>\n",
       "      <th>18405</th>\n",
       "      <td>Gone with the Wind</td>\n",
       "      <td>Margaret Mitchell</td>\n",
       "      <td>926,601</td>\n",
       "      <td>4.28</td>\n",
       "      <td>10,621</td>\n",
       "      <td>1,030,630</td>\n",
       "      <td>English</td>\n",
       "      <td>1999.0</td>\n",
       "      <td>1936.0</td>\n",
       "    </tr>\n",
       "    <tr>\n",
       "      <th>30</th>\n",
       "      <td>J.R.R. Tolkien 4-Book Boxed Set: The Hobbit an...</td>\n",
       "      <td>J.R.R. Tolkien</td>\n",
       "      <td>96,749</td>\n",
       "      <td>4.59</td>\n",
       "      <td>10,373</td>\n",
       "      <td>988,573</td>\n",
       "      <td>English</td>\n",
       "      <td>2012.0</td>\n",
       "      <td>NaN</td>\n",
       "    </tr>\n",
       "    <tr>\n",
       "      <th>...</th>\n",
       "      <td>...</td>\n",
       "      <td>...</td>\n",
       "      <td>...</td>\n",
       "      <td>...</td>\n",
       "      <td>...</td>\n",
       "      <td>...</td>\n",
       "      <td>...</td>\n",
       "      <td>...</td>\n",
       "      <td>...</td>\n",
       "    </tr>\n",
       "    <tr>\n",
       "      <th>10979</th>\n",
       "      <td>Light in August</td>\n",
       "      <td>William Faulkner</td>\n",
       "      <td>45,717</td>\n",
       "      <td>3.94</td>\n",
       "      <td>93</td>\n",
       "      <td>6,492</td>\n",
       "      <td>English</td>\n",
       "      <td>1991.0</td>\n",
       "      <td>NaN</td>\n",
       "    </tr>\n",
       "    <tr>\n",
       "      <th>9014</th>\n",
       "      <td>The Long Walk</td>\n",
       "      <td>Richard Bachman</td>\n",
       "      <td>83,280</td>\n",
       "      <td>4.11</td>\n",
       "      <td>83</td>\n",
       "      <td>6,485</td>\n",
       "      <td>English</td>\n",
       "      <td>1999.0</td>\n",
       "      <td>NaN</td>\n",
       "    </tr>\n",
       "    <tr>\n",
       "      <th>13496084</th>\n",
       "      <td>Point of Retreat</td>\n",
       "      <td>Colleen Hoover</td>\n",
       "      <td>127,323</td>\n",
       "      <td>4.30</td>\n",
       "      <td>74</td>\n",
       "      <td>6,475</td>\n",
       "      <td>English</td>\n",
       "      <td>NaN</td>\n",
       "      <td>NaN</td>\n",
       "    </tr>\n",
       "    <tr>\n",
       "      <th>2722413</th>\n",
       "      <td>Evernight</td>\n",
       "      <td>Claudia Gray</td>\n",
       "      <td>68,412</td>\n",
       "      <td>3.64</td>\n",
       "      <td>87</td>\n",
       "      <td>6,466</td>\n",
       "      <td>English</td>\n",
       "      <td>2009.0</td>\n",
       "      <td>NaN</td>\n",
       "    </tr>\n",
       "    <tr>\n",
       "      <th>8685612</th>\n",
       "      <td>The Iron Queen</td>\n",
       "      <td>Julie Kagawa</td>\n",
       "      <td>86,745</td>\n",
       "      <td>4.24</td>\n",
       "      <td>82</td>\n",
       "      <td>6,462</td>\n",
       "      <td>English</td>\n",
       "      <td>2011.0</td>\n",
       "      <td>NaN</td>\n",
       "    </tr>\n",
       "    <tr>\n",
       "      <th>24192</th>\n",
       "      <td>The Runaway Jury</td>\n",
       "      <td>John Grisham</td>\n",
       "      <td>232,043</td>\n",
       "      <td>3.96</td>\n",
       "      <td>102</td>\n",
       "      <td>6,453</td>\n",
       "      <td>English</td>\n",
       "      <td>2006.0</td>\n",
       "      <td>1996.0</td>\n",
       "    </tr>\n",
       "    <tr>\n",
       "      <th>15760001</th>\n",
       "      <td>On Dublin Street</td>\n",
       "      <td>Samantha Young</td>\n",
       "      <td>149,239</td>\n",
       "      <td>4.24</td>\n",
       "      <td>80</td>\n",
       "      <td>6,449</td>\n",
       "      <td>English</td>\n",
       "      <td>NaN</td>\n",
       "      <td>NaN</td>\n",
       "    </tr>\n",
       "    <tr>\n",
       "      <th>5287473</th>\n",
       "      <td>Hex Hall</td>\n",
       "      <td>Rachel Hawkins</td>\n",
       "      <td>117,208</td>\n",
       "      <td>3.96</td>\n",
       "      <td>85</td>\n",
       "      <td>6,446</td>\n",
       "      <td>English</td>\n",
       "      <td>2010.0</td>\n",
       "      <td>NaN</td>\n",
       "    </tr>\n",
       "    <tr>\n",
       "      <th>529626</th>\n",
       "      <td>Sometimes a Great Notion</td>\n",
       "      <td>Ken Kesey</td>\n",
       "      <td>17,029</td>\n",
       "      <td>4.25</td>\n",
       "      <td>82</td>\n",
       "      <td>6,433</td>\n",
       "      <td>English</td>\n",
       "      <td>1977.0</td>\n",
       "      <td>NaN</td>\n",
       "    </tr>\n",
       "    <tr>\n",
       "      <th>5096</th>\n",
       "      <td>Wizard and Glass</td>\n",
       "      <td>Stephen King</td>\n",
       "      <td>128,494</td>\n",
       "      <td>4.25</td>\n",
       "      <td>85</td>\n",
       "      <td>6,424</td>\n",
       "      <td>English</td>\n",
       "      <td>2003.0</td>\n",
       "      <td>NaN</td>\n",
       "    </tr>\n",
       "  </tbody>\n",
       "</table>\n",
       "<p>2000 rows × 9 columns</p>\n",
       "</div>"
      ],
      "text/plain": [
       "                                                     naslov  \\\n",
       "id                                                            \n",
       "2767052                                    The Hunger Games   \n",
       "2                 Harry Potter and the Order of the Phoenix   \n",
       "2657                                  To Kill a Mockingbird   \n",
       "1885                                    Pride and Prejudice   \n",
       "41865                                              Twilight   \n",
       "19063                                        The Book Thief   \n",
       "11127                              The Chronicles of Narnia   \n",
       "7613                                            Animal Farm   \n",
       "18405                                    Gone with the Wind   \n",
       "30        J.R.R. Tolkien 4-Book Boxed Set: The Hobbit an...   \n",
       "...                                                     ...   \n",
       "10979                                       Light in August   \n",
       "9014                                          The Long Walk   \n",
       "13496084                                   Point of Retreat   \n",
       "2722413                                           Evernight   \n",
       "8685612                                      The Iron Queen   \n",
       "24192                                      The Runaway Jury   \n",
       "15760001                                   On Dublin Street   \n",
       "5287473                                            Hex Hall   \n",
       "529626                             Sometimes a Great Notion   \n",
       "5096                                       Wizard and Glass   \n",
       "\n",
       "                      avtor      ocene  povprecje stevilo_glasujocih  \\\n",
       "id                                                                     \n",
       "2767052     Suzanne Collins  5,185,834       4.34             28,343   \n",
       "2              J.K. Rowling  1,913,035       4.47             24,271   \n",
       "2657             Harper Lee  3,461,327       4.26             20,456   \n",
       "1885            Jane Austen  2,298,359       4.25             17,659   \n",
       "41865       Stephenie Meyer  4,065,182       3.57             14,320   \n",
       "19063          Markus Zusak  1,364,387       4.36             11,942   \n",
       "11127            C.S. Lewis    416,104       4.25             11,846   \n",
       "7613          George Orwell  2,084,122       3.88             11,553   \n",
       "18405     Margaret Mitchell    926,601       4.28             10,621   \n",
       "30           J.R.R. Tolkien     96,749       4.59             10,373   \n",
       "...                     ...        ...        ...                ...   \n",
       "10979      William Faulkner     45,717       3.94                 93   \n",
       "9014        Richard Bachman     83,280       4.11                 83   \n",
       "13496084     Colleen Hoover    127,323       4.30                 74   \n",
       "2722413        Claudia Gray     68,412       3.64                 87   \n",
       "8685612        Julie Kagawa     86,745       4.24                 82   \n",
       "24192          John Grisham    232,043       3.96                102   \n",
       "15760001     Samantha Young    149,239       4.24                 80   \n",
       "5287473      Rachel Hawkins    117,208       3.96                 85   \n",
       "529626            Ken Kesey     17,029       4.25                 82   \n",
       "5096           Stephen King    128,494       4.25                 85   \n",
       "\n",
       "              tocke    jezik  leto_objave  leto_izdaje  \n",
       "id                                                      \n",
       "2767052   2,780,502  English       2008.0          NaN  \n",
       "2         2,371,475  English       2004.0          NaN  \n",
       "2657      1,987,103  English       2006.0          NaN  \n",
       "1885      1,709,202  English       2000.0       1813.0  \n",
       "41865     1,405,717  English       2006.0          NaN  \n",
       "19063     1,154,375  English       2006.0       2005.0  \n",
       "11127     1,130,634  English       2002.0       1956.0  \n",
       "7613      1,110,955  English       2003.0          NaN  \n",
       "18405     1,030,630  English       1999.0       1936.0  \n",
       "30          988,573  English       2012.0          NaN  \n",
       "...             ...      ...          ...          ...  \n",
       "10979         6,492  English       1991.0          NaN  \n",
       "9014          6,485  English       1999.0          NaN  \n",
       "13496084      6,475  English          NaN          NaN  \n",
       "2722413       6,466  English       2009.0          NaN  \n",
       "8685612       6,462  English       2011.0          NaN  \n",
       "24192         6,453  English       2006.0       1996.0  \n",
       "15760001      6,449  English          NaN          NaN  \n",
       "5287473       6,446  English       2010.0          NaN  \n",
       "529626        6,433  English       1977.0          NaN  \n",
       "5096          6,424  English       2003.0          NaN  \n",
       "\n",
       "[2000 rows x 9 columns]"
      ]
     },
     "execution_count": 5,
     "metadata": {},
     "output_type": "execute_result"
    }
   ],
   "source": [
    "import pandas as pd\n",
    "import numpy as np\n",
    "import matplotlib.pyplot as plt\n",
    "%matplotlib inline\n",
    "knjige = pd.read_csv('najboljse_knjige_vseh_casov.csv', encoding='latin1',  index_col='id')\n",
    "pd.options.display.max_rows = 20\n",
    "knjige"
   ]
  },
  {
   "cell_type": "markdown",
   "metadata": {},
   "source": [
    "## Najbolj brani avtorji\n",
    "Zanima me kdo so najbolj brani avtorji glede na število njihovih knjig uvrščenih na seznamu ter glede na njihove ocene."
   ]
  },
  {
   "cell_type": "code",
   "execution_count": 6,
   "metadata": {},
   "outputs": [],
   "source": [
    "knjige_po_avtorjih = knjige.groupby('avtor')"
   ]
  },
  {
   "cell_type": "code",
   "execution_count": 7,
   "metadata": {},
   "outputs": [],
   "source": [
    "naj_avtorji = knjige['avtor'].value_counts()"
   ]
  },
  {
   "cell_type": "markdown",
   "metadata": {},
   "source": [
    "V naslednjem grafu lahko opazimo koliko knjig posameznega avtorja se pojavi na lestvici 2000 najbolje ocenjenih knjig."
   ]
  },
  {
   "cell_type": "code",
   "execution_count": 8,
   "metadata": {},
   "outputs": [
    {
     "data": {
      "text/plain": [
       "<matplotlib.axes._subplots.AxesSubplot at 0x165295f1e80>"
      ]
     },
     "execution_count": 8,
     "metadata": {},
     "output_type": "execute_result"
    },
    {
     "data": {
      "image/png": "[encoded data removed]",
      "text/plain": [
       "<Figure size 432x288 with 1 Axes>"
      ]
     },
     "metadata": {
      "needs_background": "light"
     },
     "output_type": "display_data"
    }
   ],
   "source": [
    "naj_avtorji[:20].plot(kind='bar')"
   ]
  },
  {
   "cell_type": "markdown",
   "metadata": {},
   "source": [
    "S številom knjig najboolj iztopa Stephen King. Poglejmo si s katerimi deli:"
   ]
  },
  {
   "cell_type": "code",
   "execution_count": 9,
   "metadata": {},
   "outputs": [
    {
     "data": {
      "text/html": [
       "<div>\n",
       "<style scoped>\n",
       "    .dataframe tbody tr th:only-of-type {\n",
       "        vertical-align: middle;\n",
       "    }\n",
       "\n",
       "    .dataframe tbody tr th {\n",
       "        vertical-align: top;\n",
       "    }\n",
       "\n",
       "    .dataframe thead th {\n",
       "        text-align: right;\n",
       "    }\n",
       "</style>\n",
       "<table border=\"1\" class=\"dataframe\">\n",
       "  <thead>\n",
       "    <tr style=\"text-align: right;\">\n",
       "      <th></th>\n",
       "      <th>naslov</th>\n",
       "      <th>avtor</th>\n",
       "      <th>ocene</th>\n",
       "      <th>povprecje</th>\n",
       "      <th>stevilo_glasujocih</th>\n",
       "      <th>tocke</th>\n",
       "      <th>jezik</th>\n",
       "      <th>leto_objave</th>\n",
       "      <th>leto_izdaje</th>\n",
       "    </tr>\n",
       "    <tr>\n",
       "      <th>id</th>\n",
       "      <th></th>\n",
       "      <th></th>\n",
       "      <th></th>\n",
       "      <th></th>\n",
       "      <th></th>\n",
       "      <th></th>\n",
       "      <th></th>\n",
       "      <th></th>\n",
       "      <th></th>\n",
       "    </tr>\n",
       "  </thead>\n",
       "  <tbody>\n",
       "    <tr>\n",
       "      <th>149267</th>\n",
       "      <td>The Stand</td>\n",
       "      <td>Stephen King</td>\n",
       "      <td>493,162</td>\n",
       "      <td>4.34</td>\n",
       "      <td>3,830</td>\n",
       "      <td>353,005</td>\n",
       "      <td>English</td>\n",
       "      <td>1990.0</td>\n",
       "      <td>1978.0</td>\n",
       "    </tr>\n",
       "    <tr>\n",
       "      <th>5094</th>\n",
       "      <td>The Drawing of the Three</td>\n",
       "      <td>Stephen King</td>\n",
       "      <td>168,844</td>\n",
       "      <td>4.23</td>\n",
       "      <td>82</td>\n",
       "      <td>5,878</td>\n",
       "      <td>English</td>\n",
       "      <td>2003.0</td>\n",
       "      <td>NaN</td>\n",
       "    </tr>\n",
       "    <tr>\n",
       "      <th>11602</th>\n",
       "      <td>Hearts in Atlantis</td>\n",
       "      <td>Stephen King</td>\n",
       "      <td>73,356</td>\n",
       "      <td>3.81</td>\n",
       "      <td>77</td>\n",
       "      <td>5,550</td>\n",
       "      <td>English</td>\n",
       "      <td>2001.0</td>\n",
       "      <td>NaN</td>\n",
       "    </tr>\n",
       "    <tr>\n",
       "      <th>10603</th>\n",
       "      <td>Cujo</td>\n",
       "      <td>Stephen King</td>\n",
       "      <td>176,120</td>\n",
       "      <td>3.66</td>\n",
       "      <td>83</td>\n",
       "      <td>4,879</td>\n",
       "      <td>Spanish</td>\n",
       "      <td>2006.0</td>\n",
       "      <td>NaN</td>\n",
       "    </tr>\n",
       "    <tr>\n",
       "      <th>107291</th>\n",
       "      <td>Needful Things</td>\n",
       "      <td>Stephen King</td>\n",
       "      <td>166,137</td>\n",
       "      <td>3.88</td>\n",
       "      <td>71</td>\n",
       "      <td>4,718</td>\n",
       "      <td>English</td>\n",
       "      <td>1992.0</td>\n",
       "      <td>NaN</td>\n",
       "    </tr>\n",
       "    <tr>\n",
       "      <th>11573</th>\n",
       "      <td>The Dead Zone</td>\n",
       "      <td>Stephen King</td>\n",
       "      <td>143,464</td>\n",
       "      <td>3.90</td>\n",
       "      <td>74</td>\n",
       "      <td>4,503</td>\n",
       "      <td>English</td>\n",
       "      <td>1980.0</td>\n",
       "      <td>NaN</td>\n",
       "    </tr>\n",
       "    <tr>\n",
       "      <th>10625</th>\n",
       "      <td>Dolores Claiborne</td>\n",
       "      <td>Stephen King</td>\n",
       "      <td>103,024</td>\n",
       "      <td>3.82</td>\n",
       "      <td>60</td>\n",
       "      <td>3,742</td>\n",
       "      <td>French</td>\n",
       "      <td>1996.0</td>\n",
       "      <td>NaN</td>\n",
       "    </tr>\n",
       "    <tr>\n",
       "      <th>10611</th>\n",
       "      <td>The Eyes of the Dragon</td>\n",
       "      <td>Stephen King</td>\n",
       "      <td>84,343</td>\n",
       "      <td>3.93</td>\n",
       "      <td>55</td>\n",
       "      <td>3,433</td>\n",
       "      <td>English</td>\n",
       "      <td>1993.0</td>\n",
       "      <td>NaN</td>\n",
       "    </tr>\n",
       "    <tr>\n",
       "      <th>10585</th>\n",
       "      <td>Insomnia</td>\n",
       "      <td>Stephen King</td>\n",
       "      <td>114,101</td>\n",
       "      <td>3.80</td>\n",
       "      <td>51</td>\n",
       "      <td>3,414</td>\n",
       "      <td>Spanish</td>\n",
       "      <td>2005.0</td>\n",
       "      <td>NaN</td>\n",
       "    </tr>\n",
       "    <tr>\n",
       "      <th>34084</th>\n",
       "      <td>The Waste Lands</td>\n",
       "      <td>Stephen King</td>\n",
       "      <td>144,191</td>\n",
       "      <td>4.24</td>\n",
       "      <td>47</td>\n",
       "      <td>3,391</td>\n",
       "      <td>English</td>\n",
       "      <td>2003.0</td>\n",
       "      <td>NaN</td>\n",
       "    </tr>\n",
       "    <tr>\n",
       "      <th>...</th>\n",
       "      <td>...</td>\n",
       "      <td>...</td>\n",
       "      <td>...</td>\n",
       "      <td>...</td>\n",
       "      <td>...</td>\n",
       "      <td>...</td>\n",
       "      <td>...</td>\n",
       "      <td>...</td>\n",
       "      <td>...</td>\n",
       "    </tr>\n",
       "    <tr>\n",
       "      <th>43615</th>\n",
       "      <td>The Gunslinger</td>\n",
       "      <td>Stephen King</td>\n",
       "      <td>398,308</td>\n",
       "      <td>3.97</td>\n",
       "      <td>360</td>\n",
       "      <td>29,153</td>\n",
       "      <td>English</td>\n",
       "      <td>2003.0</td>\n",
       "      <td>NaN</td>\n",
       "    </tr>\n",
       "    <tr>\n",
       "      <th>11590</th>\n",
       "      <td>'Salem's Lot</td>\n",
       "      <td>Stephen King</td>\n",
       "      <td>255,295</td>\n",
       "      <td>3.99</td>\n",
       "      <td>339</td>\n",
       "      <td>24,843</td>\n",
       "      <td>English</td>\n",
       "      <td>1991.0</td>\n",
       "      <td>NaN</td>\n",
       "    </tr>\n",
       "    <tr>\n",
       "      <th>10644930</th>\n",
       "      <td>11/22/63</td>\n",
       "      <td>Stephen King</td>\n",
       "      <td>319,830</td>\n",
       "      <td>4.29</td>\n",
       "      <td>222</td>\n",
       "      <td>18,064</td>\n",
       "      <td>English</td>\n",
       "      <td>2011.0</td>\n",
       "      <td>NaN</td>\n",
       "    </tr>\n",
       "    <tr>\n",
       "      <th>10592</th>\n",
       "      <td>Carrie</td>\n",
       "      <td>Stephen King</td>\n",
       "      <td>392,489</td>\n",
       "      <td>3.93</td>\n",
       "      <td>256</td>\n",
       "      <td>17,352</td>\n",
       "      <td>English</td>\n",
       "      <td>2005.0</td>\n",
       "      <td>NaN</td>\n",
       "    </tr>\n",
       "    <tr>\n",
       "      <th>10583</th>\n",
       "      <td>Pet Sematary</td>\n",
       "      <td>Stephen King</td>\n",
       "      <td>304,102</td>\n",
       "      <td>3.92</td>\n",
       "      <td>195</td>\n",
       "      <td>13,474</td>\n",
       "      <td>English</td>\n",
       "      <td>2005.0</td>\n",
       "      <td>NaN</td>\n",
       "    </tr>\n",
       "    <tr>\n",
       "      <th>59219</th>\n",
       "      <td>The Talisman</td>\n",
       "      <td>Stephen King</td>\n",
       "      <td>90,546</td>\n",
       "      <td>4.13</td>\n",
       "      <td>163</td>\n",
       "      <td>12,173</td>\n",
       "      <td>English</td>\n",
       "      <td>2001.0</td>\n",
       "      <td>NaN</td>\n",
       "    </tr>\n",
       "    <tr>\n",
       "      <th>6320534</th>\n",
       "      <td>Under the Dome</td>\n",
       "      <td>Stephen King</td>\n",
       "      <td>210,189</td>\n",
       "      <td>3.90</td>\n",
       "      <td>126</td>\n",
       "      <td>8,866</td>\n",
       "      <td>English</td>\n",
       "      <td>2009.0</td>\n",
       "      <td>NaN</td>\n",
       "    </tr>\n",
       "    <tr>\n",
       "      <th>5091</th>\n",
       "      <td>The Dark Tower</td>\n",
       "      <td>Stephen King</td>\n",
       "      <td>111,377</td>\n",
       "      <td>4.27</td>\n",
       "      <td>101</td>\n",
       "      <td>7,271</td>\n",
       "      <td>English</td>\n",
       "      <td>2006.0</td>\n",
       "      <td>NaN</td>\n",
       "    </tr>\n",
       "    <tr>\n",
       "      <th>10569</th>\n",
       "      <td>On Writing: A Memoir of the Craft</td>\n",
       "      <td>Stephen King</td>\n",
       "      <td>161,411</td>\n",
       "      <td>4.31</td>\n",
       "      <td>100</td>\n",
       "      <td>7,248</td>\n",
       "      <td>English</td>\n",
       "      <td>2002.0</td>\n",
       "      <td>2000.0</td>\n",
       "    </tr>\n",
       "    <tr>\n",
       "      <th>5096</th>\n",
       "      <td>Wizard and Glass</td>\n",
       "      <td>Stephen King</td>\n",
       "      <td>128,494</td>\n",
       "      <td>4.25</td>\n",
       "      <td>85</td>\n",
       "      <td>6,424</td>\n",
       "      <td>English</td>\n",
       "      <td>2003.0</td>\n",
       "      <td>NaN</td>\n",
       "    </tr>\n",
       "  </tbody>\n",
       "</table>\n",
       "<p>33 rows × 9 columns</p>\n",
       "</div>"
      ],
      "text/plain": [
       "                                     naslov         avtor    ocene  povprecje  \\\n",
       "id                                                                              \n",
       "149267                            The Stand  Stephen King  493,162       4.34   \n",
       "5094               The Drawing of the Three  Stephen King  168,844       4.23   \n",
       "11602                    Hearts in Atlantis  Stephen King   73,356       3.81   \n",
       "10603                                  Cujo  Stephen King  176,120       3.66   \n",
       "107291                       Needful Things  Stephen King  166,137       3.88   \n",
       "11573                         The Dead Zone  Stephen King  143,464       3.90   \n",
       "10625                     Dolores Claiborne  Stephen King  103,024       3.82   \n",
       "10611                The Eyes of the Dragon  Stephen King   84,343       3.93   \n",
       "10585                              Insomnia  Stephen King  114,101       3.80   \n",
       "34084                       The Waste Lands  Stephen King  144,191       4.24   \n",
       "...                                     ...           ...      ...        ...   \n",
       "43615                        The Gunslinger  Stephen King  398,308       3.97   \n",
       "11590                          'Salem's Lot  Stephen King  255,295       3.99   \n",
       "10644930                           11/22/63  Stephen King  319,830       4.29   \n",
       "10592                                Carrie  Stephen King  392,489       3.93   \n",
       "10583                          Pet Sematary  Stephen King  304,102       3.92   \n",
       "59219                          The Talisman  Stephen King   90,546       4.13   \n",
       "6320534                      Under the Dome  Stephen King  210,189       3.90   \n",
       "5091                         The Dark Tower  Stephen King  111,377       4.27   \n",
       "10569     On Writing: A Memoir of the Craft  Stephen King  161,411       4.31   \n",
       "5096                       Wizard and Glass  Stephen King  128,494       4.25   \n",
       "\n",
       "         stevilo_glasujocih    tocke    jezik  leto_objave  leto_izdaje  \n",
       "id                                                                       \n",
       "149267                3,830  353,005  English       1990.0       1978.0  \n",
       "5094                     82    5,878  English       2003.0          NaN  \n",
       "11602                    77    5,550  English       2001.0          NaN  \n",
       "10603                    83    4,879  Spanish       2006.0          NaN  \n",
       "107291                   71    4,718  English       1992.0          NaN  \n",
       "11573                    74    4,503  English       1980.0          NaN  \n",
       "10625                    60    3,742   French       1996.0          NaN  \n",
       "10611                    55    3,433  English       1993.0          NaN  \n",
       "10585                    51    3,414  Spanish       2005.0          NaN  \n",
       "34084                    47    3,391  English       2003.0          NaN  \n",
       "...                     ...      ...      ...          ...          ...  \n",
       "43615                   360   29,153  English       2003.0          NaN  \n",
       "11590                   339   24,843  English       1991.0          NaN  \n",
       "10644930                222   18,064  English       2011.0          NaN  \n",
       "10592                   256   17,352  English       2005.0          NaN  \n",
       "10583                   195   13,474  English       2005.0          NaN  \n",
       "59219                   163   12,173  English       2001.0          NaN  \n",
       "6320534                 126    8,866  English       2009.0          NaN  \n",
       "5091                    101    7,271  English       2006.0          NaN  \n",
       "10569                   100    7,248  English       2002.0       2000.0  \n",
       "5096                     85    6,424  English       2003.0          NaN  \n",
       "\n",
       "[33 rows x 9 columns]"
      ]
     },
     "execution_count": 9,
     "metadata": {},
     "output_type": "execute_result"
    }
   ],
   "source": [
    "knjige[knjige['avtor'] == 'Stephen King']"
   ]
  },
  {
   "cell_type": "code",
   "execution_count": 10,
   "metadata": {},
   "outputs": [
    {
     "data": {
      "text/html": [
       "<div>\n",
       "<style scoped>\n",
       "    .dataframe tbody tr th:only-of-type {\n",
       "        vertical-align: middle;\n",
       "    }\n",
       "\n",
       "    .dataframe tbody tr th {\n",
       "        vertical-align: top;\n",
       "    }\n",
       "\n",
       "    .dataframe thead th {\n",
       "        text-align: right;\n",
       "    }\n",
       "</style>\n",
       "<table border=\"1\" class=\"dataframe\">\n",
       "  <thead>\n",
       "    <tr style=\"text-align: right;\">\n",
       "      <th></th>\n",
       "      <th>naslov</th>\n",
       "      <th>avtor</th>\n",
       "      <th>ocene</th>\n",
       "      <th>povprecje</th>\n",
       "      <th>stevilo_glasujocih</th>\n",
       "      <th>tocke</th>\n",
       "      <th>jezik</th>\n",
       "      <th>leto_objave</th>\n",
       "      <th>leto_izdaje</th>\n",
       "    </tr>\n",
       "    <tr>\n",
       "      <th>id</th>\n",
       "      <th></th>\n",
       "      <th></th>\n",
       "      <th></th>\n",
       "      <th></th>\n",
       "      <th></th>\n",
       "      <th></th>\n",
       "      <th></th>\n",
       "      <th></th>\n",
       "      <th></th>\n",
       "    </tr>\n",
       "  </thead>\n",
       "  <tbody>\n",
       "    <tr>\n",
       "      <th>24812</th>\n",
       "      <td>The Complete Calvin and Hobbes</td>\n",
       "      <td>Bill Watterson</td>\n",
       "      <td>30,790</td>\n",
       "      <td>4.82</td>\n",
       "      <td>581</td>\n",
       "      <td>46,300</td>\n",
       "      <td>English</td>\n",
       "      <td>2005.0</td>\n",
       "      <td>NaN</td>\n",
       "    </tr>\n",
       "    <tr>\n",
       "      <th>36629470</th>\n",
       "      <td>CAPTIVE</td>\n",
       "      <td>Gabrielle Estres</td>\n",
       "      <td>149</td>\n",
       "      <td>4.79</td>\n",
       "      <td>38</td>\n",
       "      <td>3,794</td>\n",
       "      <td>English</td>\n",
       "      <td>NaN</td>\n",
       "      <td>NaN</td>\n",
       "    </tr>\n",
       "    <tr>\n",
       "      <th>17332218</th>\n",
       "      <td>Words of Radiance</td>\n",
       "      <td>Brandon Sanderson</td>\n",
       "      <td>120,124</td>\n",
       "      <td>4.77</td>\n",
       "      <td>83</td>\n",
       "      <td>7,837</td>\n",
       "      <td>English</td>\n",
       "      <td>2014.0</td>\n",
       "      <td>NaN</td>\n",
       "    </tr>\n",
       "    <tr>\n",
       "      <th>862041</th>\n",
       "      <td>Harry Potter Boxset</td>\n",
       "      <td>J.K. Rowling</td>\n",
       "      <td>211,757</td>\n",
       "      <td>4.74</td>\n",
       "      <td>233</td>\n",
       "      <td>19,141</td>\n",
       "      <td>English</td>\n",
       "      <td>2007.0</td>\n",
       "      <td>1998.0</td>\n",
       "    </tr>\n",
       "    <tr>\n",
       "      <th>59715</th>\n",
       "      <td>The Authoritative Calvin and Hobbes: A Calvin ...</td>\n",
       "      <td>Bill Watterson</td>\n",
       "      <td>18,693</td>\n",
       "      <td>4.73</td>\n",
       "      <td>42</td>\n",
       "      <td>2,716</td>\n",
       "      <td>English</td>\n",
       "      <td>1991.0</td>\n",
       "      <td>1990.0</td>\n",
       "    </tr>\n",
       "  </tbody>\n",
       "</table>\n",
       "</div>"
      ],
      "text/plain": [
       "                                                     naslov  \\\n",
       "id                                                            \n",
       "24812                        The Complete Calvin and Hobbes   \n",
       "36629470                                            CAPTIVE   \n",
       "17332218                                  Words of Radiance   \n",
       "862041                                  Harry Potter Boxset   \n",
       "59715     The Authoritative Calvin and Hobbes: A Calvin ...   \n",
       "\n",
       "                      avtor    ocene  povprecje stevilo_glasujocih   tocke  \\\n",
       "id                                                                           \n",
       "24812        Bill Watterson   30,790       4.82                581  46,300   \n",
       "36629470   Gabrielle Estres      149       4.79                 38   3,794   \n",
       "17332218  Brandon Sanderson  120,124       4.77                 83   7,837   \n",
       "862041         J.K. Rowling  211,757       4.74                233  19,141   \n",
       "59715        Bill Watterson   18,693       4.73                 42   2,716   \n",
       "\n",
       "            jezik  leto_objave  leto_izdaje  \n",
       "id                                           \n",
       "24812     English       2005.0          NaN  \n",
       "36629470  English          NaN          NaN  \n",
       "17332218  English       2014.0          NaN  \n",
       "862041    English       2007.0       1998.0  \n",
       "59715     English       1991.0       1990.0  "
      ]
     },
     "execution_count": 10,
     "metadata": {},
     "output_type": "execute_result"
    }
   ],
   "source": [
    "knjige.sort_values('povprecje', ascending=False)[:5]"
   ]
  },
  {
   "cell_type": "code",
   "execution_count": 11,
   "metadata": {},
   "outputs": [
    {
     "data": {
      "text/html": [
       "<div>\n",
       "<style scoped>\n",
       "    .dataframe tbody tr th:only-of-type {\n",
       "        vertical-align: middle;\n",
       "    }\n",
       "\n",
       "    .dataframe tbody tr th {\n",
       "        vertical-align: top;\n",
       "    }\n",
       "\n",
       "    .dataframe thead th {\n",
       "        text-align: right;\n",
       "    }\n",
       "</style>\n",
       "<table border=\"1\" class=\"dataframe\">\n",
       "  <thead>\n",
       "    <tr style=\"text-align: right;\">\n",
       "      <th></th>\n",
       "      <th>naslov</th>\n",
       "      <th>avtor</th>\n",
       "      <th>ocene</th>\n",
       "      <th>povprecje</th>\n",
       "      <th>stevilo_glasujocih</th>\n",
       "      <th>tocke</th>\n",
       "      <th>jezik</th>\n",
       "      <th>leto_objave</th>\n",
       "      <th>leto_izdaje</th>\n",
       "    </tr>\n",
       "    <tr>\n",
       "      <th>id</th>\n",
       "      <th></th>\n",
       "      <th></th>\n",
       "      <th></th>\n",
       "      <th></th>\n",
       "      <th></th>\n",
       "      <th></th>\n",
       "      <th></th>\n",
       "      <th></th>\n",
       "      <th></th>\n",
       "    </tr>\n",
       "  </thead>\n",
       "  <tbody>\n",
       "    <tr>\n",
       "      <th>2767052</th>\n",
       "      <td>The Hunger Games</td>\n",
       "      <td>Suzanne Collins</td>\n",
       "      <td>5,185,834</td>\n",
       "      <td>4.34</td>\n",
       "      <td>28,343</td>\n",
       "      <td>2,780,502</td>\n",
       "      <td>English</td>\n",
       "      <td>2008.0</td>\n",
       "      <td>NaN</td>\n",
       "    </tr>\n",
       "    <tr>\n",
       "      <th>2</th>\n",
       "      <td>Harry Potter and the Order of the Phoenix</td>\n",
       "      <td>J.K. Rowling</td>\n",
       "      <td>1,913,035</td>\n",
       "      <td>4.47</td>\n",
       "      <td>24,271</td>\n",
       "      <td>2,371,475</td>\n",
       "      <td>English</td>\n",
       "      <td>2004.0</td>\n",
       "      <td>NaN</td>\n",
       "    </tr>\n",
       "    <tr>\n",
       "      <th>2657</th>\n",
       "      <td>To Kill a Mockingbird</td>\n",
       "      <td>Harper Lee</td>\n",
       "      <td>3,461,327</td>\n",
       "      <td>4.26</td>\n",
       "      <td>20,456</td>\n",
       "      <td>1,987,103</td>\n",
       "      <td>English</td>\n",
       "      <td>2006.0</td>\n",
       "      <td>NaN</td>\n",
       "    </tr>\n",
       "    <tr>\n",
       "      <th>1885</th>\n",
       "      <td>Pride and Prejudice</td>\n",
       "      <td>Jane Austen</td>\n",
       "      <td>2,298,359</td>\n",
       "      <td>4.25</td>\n",
       "      <td>17,659</td>\n",
       "      <td>1,709,202</td>\n",
       "      <td>English</td>\n",
       "      <td>2000.0</td>\n",
       "      <td>1813.0</td>\n",
       "    </tr>\n",
       "    <tr>\n",
       "      <th>41865</th>\n",
       "      <td>Twilight</td>\n",
       "      <td>Stephenie Meyer</td>\n",
       "      <td>4,065,182</td>\n",
       "      <td>3.57</td>\n",
       "      <td>14,320</td>\n",
       "      <td>1,405,717</td>\n",
       "      <td>English</td>\n",
       "      <td>2006.0</td>\n",
       "      <td>NaN</td>\n",
       "    </tr>\n",
       "  </tbody>\n",
       "</table>\n",
       "</div>"
      ],
      "text/plain": [
       "                                            naslov            avtor  \\\n",
       "id                                                                    \n",
       "2767052                           The Hunger Games  Suzanne Collins   \n",
       "2        Harry Potter and the Order of the Phoenix     J.K. Rowling   \n",
       "2657                         To Kill a Mockingbird       Harper Lee   \n",
       "1885                           Pride and Prejudice      Jane Austen   \n",
       "41865                                     Twilight  Stephenie Meyer   \n",
       "\n",
       "             ocene  povprecje stevilo_glasujocih      tocke    jezik  \\\n",
       "id                                                                     \n",
       "2767052  5,185,834       4.34             28,343  2,780,502  English   \n",
       "2        1,913,035       4.47             24,271  2,371,475  English   \n",
       "2657     3,461,327       4.26             20,456  1,987,103  English   \n",
       "1885     2,298,359       4.25             17,659  1,709,202  English   \n",
       "41865    4,065,182       3.57             14,320  1,405,717  English   \n",
       "\n",
       "         leto_objave  leto_izdaje  \n",
       "id                                 \n",
       "2767052       2008.0          NaN  \n",
       "2             2004.0          NaN  \n",
       "2657          2006.0          NaN  \n",
       "1885          2000.0       1813.0  \n",
       "41865         2006.0          NaN  "
      ]
     },
     "execution_count": 11,
     "metadata": {},
     "output_type": "execute_result"
    }
   ],
   "source": [
    "knjige[:5]"
   ]
  },
  {
   "cell_type": "markdown",
   "metadata": {},
   "source": [
    "Knjiga z najboljšim povprečjem pripada Billu Wattersonu, medtem ko je prva knjiga na celotni lestvici, razvrščeni po točkah, napisana s strani Suzanne Collins. V obeh tabelah s prvimi petimi knjigami glede na točke in povprečje se pojavi avtorica J.K Rowling. "
   ]
  },
  {
   "cell_type": "markdown",
   "metadata": {},
   "source": [
    "## Najbolj brana leta\n",
    "Poglejmo si, kakšna je popularnost knjig glede na leto njihove izdaje in leto izdaje prve verzije ter povezavo med slednjima."
   ]
  },
  {
   "cell_type": "code",
   "execution_count": 12,
   "metadata": {},
   "outputs": [
    {
     "data": {
      "text/plain": [
       "leto_objave\n",
       "2006.0    178\n",
       "2003.0    132\n",
       "2005.0    122\n",
       "2004.0    120\n",
       "2002.0    112\n",
       "2007.0    104\n",
       "2010.0    102\n",
       "2009.0    100\n",
       "2012.0     95\n",
       "2011.0     88\n",
       "         ... \n",
       "1957.0      1\n",
       "1963.0      1\n",
       "1961.0      1\n",
       "1981.0      1\n",
       "1966.0      1\n",
       "1971.0      1\n",
       "1973.0      1\n",
       "1974.0      1\n",
       "1975.0      1\n",
       "1912.0      1\n",
       "Length: 62, dtype: int64"
      ]
     },
     "execution_count": 12,
     "metadata": {},
     "output_type": "execute_result"
    }
   ],
   "source": [
    "knjige_po_letih = knjige.groupby('leto_objave')\n",
    "knjige_po_letih.size().sort_values(ascending=False)"
   ]
  },
  {
   "cell_type": "code",
   "execution_count": 13,
   "metadata": {},
   "outputs": [
    {
     "data": {
      "text/plain": [
       "desetletje\n",
       "1910.0       1\n",
       "1930.0       1\n",
       "1950.0       7\n",
       "1960.0       9\n",
       "1970.0      24\n",
       "1980.0      80\n",
       "1990.0     324\n",
       "2000.0    1088\n",
       "2010.0     440\n",
       "dtype: int64"
      ]
     },
     "execution_count": 13,
     "metadata": {},
     "output_type": "execute_result"
    }
   ],
   "source": [
    "knjige['desetletje'] = 10 * (knjige.leto_objave // 10)\n",
    "knjige_po_desetletjih = knjige.groupby('desetletje')\n",
    "knjige_po_desetletjih.size()"
   ]
  },
  {
   "cell_type": "code",
   "execution_count": 14,
   "metadata": {},
   "outputs": [
    {
     "data": {
      "text/plain": [
       "<matplotlib.axes._subplots.AxesSubplot at 0x165293b7c88>"
      ]
     },
     "execution_count": 14,
     "metadata": {},
     "output_type": "execute_result"
    },
    {
     "data": {
      "image/png": "[encoded data removed]",
      "text/plain": [
       "<Figure size 432x288 with 1 Axes>"
      ]
     },
     "metadata": {
      "needs_background": "light"
     },
     "output_type": "display_data"
    }
   ],
   "source": [
    "knjige_po_desetletjih.size().plot()"
   ]
  },
  {
   "cell_type": "markdown",
   "metadata": {},
   "source": [
    "Iz grafa je razvidno, da so najbolje ocenjene knjige okoli 20. stoletja."
   ]
  },
  {
   "cell_type": "code",
   "execution_count": 15,
   "metadata": {},
   "outputs": [
    {
     "data": {
      "text/plain": [
       "leto_izdaje\n",
       "2006.0    23\n",
       "2001.0    21\n",
       "2005.0    20\n",
       "1998.0    19\n",
       "2003.0    19\n",
       "1985.0    17\n",
       "1995.0    17\n",
       "1987.0    15\n",
       "1996.0    15\n",
       "2000.0    15\n",
       "          ..\n",
       "1842.0     1\n",
       "1847.0     1\n",
       "1848.0     1\n",
       "1854.0     1\n",
       "1856.0     1\n",
       "1859.0     1\n",
       "1861.0     1\n",
       "1865.0     1\n",
       "1871.0     1\n",
       "1008.0     1\n",
       "Length: 196, dtype: int64"
      ]
     },
     "execution_count": 15,
     "metadata": {},
     "output_type": "execute_result"
    }
   ],
   "source": [
    "knjige_po_letih_prvih_izdaj = knjige.groupby('leto_izdaje')\n",
    "knjige_po_letih_prvih_izdaj.size().sort_values(ascending=False)"
   ]
  },
  {
   "cell_type": "markdown",
   "metadata": {},
   "source": [
    "Vidimo, da se najpogostejše pojavljeno leto prvih izdaj ujema z najpogostejše pojavljenim letom izdaj ocenjenih knjig."
   ]
  },
  {
   "cell_type": "code",
   "execution_count": 16,
   "metadata": {},
   "outputs": [],
   "source": [
    "%matplotlib inline"
   ]
  },
  {
   "cell_type": "code",
   "execution_count": 17,
   "metadata": {},
   "outputs": [
    {
     "data": {
      "text/plain": [
       "<matplotlib.axes._subplots.AxesSubplot at 0x16529415a58>"
      ]
     },
     "execution_count": 17,
     "metadata": {},
     "output_type": "execute_result"
    },
    {
     "data": {
      "image/png": "[encoded data removed]",
      "text/plain": [
       "<Figure size 432x288 with 1 Axes>"
      ]
     },
     "metadata": {
      "needs_background": "light"
     },
     "output_type": "display_data"
    }
   ],
   "source": [
    "knjige_po_letih.size().plot() and knjige_po_letih_prvih_izdaj.size().plot()"
   ]
  },
  {
   "cell_type": "markdown",
   "metadata": {},
   "source": [
    "Tudi graf pokaže, da je popularnost po letih izdaje ocenjenih verzij in letih prvotnih izdaj kar usklajena."
   ]
  },
  {
   "cell_type": "markdown",
   "metadata": {},
   "source": [
    "## Razvrstitev po jezikih"
   ]
  },
  {
   "cell_type": "code",
   "execution_count": 18,
   "metadata": {},
   "outputs": [],
   "source": [
    "knjige_po_jezikih = knjige.groupby('jezik')"
   ]
  },
  {
   "cell_type": "code",
   "execution_count": 19,
   "metadata": {},
   "outputs": [
    {
     "data": {
      "text/plain": [
       "jezik\n",
       "English               1951\n",
       "Spanish                  9\n",
       "German                   5\n",
       "French                   5\n",
       "Arabic                   5\n",
       "Portuguese               2\n",
       "Turkish                  1\n",
       "Persian                  1\n",
       "Multiple languages       1\n",
       "Indonesian               1\n",
       "dtype: int64"
      ]
     },
     "execution_count": 19,
     "metadata": {},
     "output_type": "execute_result"
    }
   ],
   "source": [
    "knjige_po_jezikih.size().sort_values(ascending=False)"
   ]
  },
  {
   "cell_type": "markdown",
   "metadata": {},
   "source": [
    "Največ je knjig napisanih v angleščini, kar je tudi pričakovano, glede na to da je vir podatkov angleškega izvora. Oglejmo si grafičen prikaz zastopanosti neangleškh jezikov."
   ]
  },
  {
   "cell_type": "code",
   "execution_count": 20,
   "metadata": {},
   "outputs": [
    {
     "data": {
      "text/plain": [
       "[Text(0, 0.5, '')]"
      ]
     },
     "execution_count": 20,
     "metadata": {},
     "output_type": "execute_result"
    },
    {
     "data": {
      "image/png": "[encoded data removed]",
      "text/plain": [
       "<Figure size 720x720 with 1 Axes>"
      ]
     },
     "metadata": {},
     "output_type": "display_data"
    }
   ],
   "source": [
    "knjige_po_jezikih.size().sort_values(ascending=False)[1:].plot(kind='pie', colormap='Set3', figsize=(10, 10)).set(ylabel='')"
   ]
  },
  {
   "cell_type": "code",
   "execution_count": 21,
   "metadata": {},
   "outputs": [
    {
     "data": {
      "text/plain": [
       "jezik\n",
       "Turkish               4.480000\n",
       "Multiple languages    4.460000\n",
       "Indonesian            4.380000\n",
       "Arabic                4.202000\n",
       "German                4.156000\n",
       "Persian               4.090000\n",
       "English               4.065023\n",
       "Spanish               3.952222\n",
       "French                3.826000\n",
       "Portuguese            3.725000\n",
       "Name: povprecje, dtype: float64"
      ]
     },
     "execution_count": 21,
     "metadata": {},
     "output_type": "execute_result"
    }
   ],
   "source": [
    "knjige_po_jezikih.mean()['povprecje'].sort_values(ascending=False)"
   ]
  },
  {
   "cell_type": "markdown",
   "metadata": {},
   "source": [
    "Pri opazovanju povprečja knjig po jezikih ugotovimo, da so najbolje ocenjene turške knjige in se knjige v angleškem jeziku nahajajo šele na 7. mestu na tej lestvici."
   ]
  },
  {
   "cell_type": "markdown",
   "metadata": {},
   "source": [
    "## Povezava med točkami in povprečjem\n",
    "Zdi se nenavadno, da stran ponuja dva različna načina ocenjevanja knjig: s točkami in (kot običajno) oceno z zvezdicami, katera pa se ne ujemata, ko pride do razvrstitve po njima. Že zgoraj pri analizi najbolj branih avtorjev, smo opazili neujemanje avtorjev razvršenih po povrečjih in po točkah. "
   ]
  },
  {
   "cell_type": "code",
   "execution_count": 22,
   "metadata": {},
   "outputs": [],
   "source": [
    "knjige_po_tockah = knjige.groupby('tocke')\n",
    "knjige_po_povprečjih = knjige.groupby('povprecje')"
   ]
  },
  {
   "cell_type": "code",
   "execution_count": 23,
   "metadata": {},
   "outputs": [
    {
     "data": {
      "text/html": [
       "<div>\n",
       "<style scoped>\n",
       "    .dataframe tbody tr th:only-of-type {\n",
       "        vertical-align: middle;\n",
       "    }\n",
       "\n",
       "    .dataframe tbody tr th {\n",
       "        vertical-align: top;\n",
       "    }\n",
       "\n",
       "    .dataframe thead th {\n",
       "        text-align: right;\n",
       "    }\n",
       "</style>\n",
       "<table border=\"1\" class=\"dataframe\">\n",
       "  <thead>\n",
       "    <tr style=\"text-align: right;\">\n",
       "      <th></th>\n",
       "      <th>naslov</th>\n",
       "      <th>tocke</th>\n",
       "      <th>povprecje</th>\n",
       "    </tr>\n",
       "    <tr>\n",
       "      <th>id</th>\n",
       "      <th></th>\n",
       "      <th></th>\n",
       "      <th></th>\n",
       "    </tr>\n",
       "  </thead>\n",
       "  <tbody>\n",
       "    <tr>\n",
       "      <th>24812</th>\n",
       "      <td>The Complete Calvin and Hobbes</td>\n",
       "      <td>46,300</td>\n",
       "      <td>4.82</td>\n",
       "    </tr>\n",
       "    <tr>\n",
       "      <th>36629470</th>\n",
       "      <td>CAPTIVE</td>\n",
       "      <td>3,794</td>\n",
       "      <td>4.79</td>\n",
       "    </tr>\n",
       "    <tr>\n",
       "      <th>17332218</th>\n",
       "      <td>Words of Radiance</td>\n",
       "      <td>7,837</td>\n",
       "      <td>4.77</td>\n",
       "    </tr>\n",
       "    <tr>\n",
       "      <th>862041</th>\n",
       "      <td>Harry Potter Boxset</td>\n",
       "      <td>19,141</td>\n",
       "      <td>4.74</td>\n",
       "    </tr>\n",
       "    <tr>\n",
       "      <th>59715</th>\n",
       "      <td>The Authoritative Calvin and Hobbes: A Calvin ...</td>\n",
       "      <td>2,716</td>\n",
       "      <td>4.73</td>\n",
       "    </tr>\n",
       "    <tr>\n",
       "      <th>26073150</th>\n",
       "      <td>A Court of Mist and Fury</td>\n",
       "      <td>1,870</td>\n",
       "      <td>4.71</td>\n",
       "    </tr>\n",
       "    <tr>\n",
       "      <th>17927395</th>\n",
       "      <td>A Court of Mist and Fury</td>\n",
       "      <td>17,492</td>\n",
       "      <td>4.71</td>\n",
       "    </tr>\n",
       "    <tr>\n",
       "      <th>24536832</th>\n",
       "      <td>Song Bird: Matters of the Heart</td>\n",
       "      <td>1,685</td>\n",
       "      <td>4.68</td>\n",
       "    </tr>\n",
       "    <tr>\n",
       "      <th>99298</th>\n",
       "      <td>The Harry Potter Collection 1-4</td>\n",
       "      <td>2,714</td>\n",
       "      <td>4.66</td>\n",
       "    </tr>\n",
       "    <tr>\n",
       "      <th>7235533</th>\n",
       "      <td>The Way of Kings</td>\n",
       "      <td>21,585</td>\n",
       "      <td>4.64</td>\n",
       "    </tr>\n",
       "    <tr>\n",
       "      <th>...</th>\n",
       "      <td>...</td>\n",
       "      <td>...</td>\n",
       "      <td>...</td>\n",
       "    </tr>\n",
       "    <tr>\n",
       "      <th>7437</th>\n",
       "      <td>Naked Lunch</td>\n",
       "      <td>5,739</td>\n",
       "      <td>3.46</td>\n",
       "    </tr>\n",
       "    <tr>\n",
       "      <th>68591</th>\n",
       "      <td>Brida</td>\n",
       "      <td>2,281</td>\n",
       "      <td>3.46</td>\n",
       "    </tr>\n",
       "    <tr>\n",
       "      <th>12948</th>\n",
       "      <td>The Turn of the Screw</td>\n",
       "      <td>5,095</td>\n",
       "      <td>3.45</td>\n",
       "    </tr>\n",
       "    <tr>\n",
       "      <th>5308</th>\n",
       "      <td>The Pearl</td>\n",
       "      <td>19,831</td>\n",
       "      <td>3.42</td>\n",
       "    </tr>\n",
       "    <tr>\n",
       "      <th>52357</th>\n",
       "      <td>Beowulf</td>\n",
       "      <td>28,623</td>\n",
       "      <td>3.42</td>\n",
       "    </tr>\n",
       "    <tr>\n",
       "      <th>4900</th>\n",
       "      <td>Heart of Darkness</td>\n",
       "      <td>79,216</td>\n",
       "      <td>3.42</td>\n",
       "    </tr>\n",
       "    <tr>\n",
       "      <th>12296</th>\n",
       "      <td>The Scarlet Letter</td>\n",
       "      <td>121,976</td>\n",
       "      <td>3.38</td>\n",
       "    </tr>\n",
       "    <tr>\n",
       "      <th>5246</th>\n",
       "      <td>Ethan Frome</td>\n",
       "      <td>8,510</td>\n",
       "      <td>3.36</td>\n",
       "    </tr>\n",
       "    <tr>\n",
       "      <th>13497818</th>\n",
       "      <td>The Casual Vacancy</td>\n",
       "      <td>3,707</td>\n",
       "      <td>3.28</td>\n",
       "    </tr>\n",
       "    <tr>\n",
       "      <th>35220</th>\n",
       "      <td>The Red Badge of Courage</td>\n",
       "      <td>4,962</td>\n",
       "      <td>3.21</td>\n",
       "    </tr>\n",
       "  </tbody>\n",
       "</table>\n",
       "<p>2000 rows × 3 columns</p>\n",
       "</div>"
      ],
      "text/plain": [
       "                                                     naslov    tocke  \\\n",
       "id                                                                     \n",
       "24812                        The Complete Calvin and Hobbes   46,300   \n",
       "36629470                                            CAPTIVE    3,794   \n",
       "17332218                                  Words of Radiance    7,837   \n",
       "862041                                  Harry Potter Boxset   19,141   \n",
       "59715     The Authoritative Calvin and Hobbes: A Calvin ...    2,716   \n",
       "26073150                           A Court of Mist and Fury    1,870   \n",
       "17927395                           A Court of Mist and Fury   17,492   \n",
       "24536832                    Song Bird: Matters of the Heart    1,685   \n",
       "99298                       The Harry Potter Collection 1-4    2,714   \n",
       "7235533                                    The Way of Kings   21,585   \n",
       "...                                                     ...      ...   \n",
       "7437                                            Naked Lunch    5,739   \n",
       "68591                                                 Brida    2,281   \n",
       "12948                                 The Turn of the Screw    5,095   \n",
       "5308                                              The Pearl   19,831   \n",
       "52357                                               Beowulf   28,623   \n",
       "4900                                      Heart of Darkness   79,216   \n",
       "12296                                    The Scarlet Letter  121,976   \n",
       "5246                                            Ethan Frome    8,510   \n",
       "13497818                                 The Casual Vacancy    3,707   \n",
       "35220                              The Red Badge of Courage    4,962   \n",
       "\n",
       "          povprecje  \n",
       "id                   \n",
       "24812          4.82  \n",
       "36629470       4.79  \n",
       "17332218       4.77  \n",
       "862041         4.74  \n",
       "59715          4.73  \n",
       "26073150       4.71  \n",
       "17927395       4.71  \n",
       "24536832       4.68  \n",
       "99298          4.66  \n",
       "7235533        4.64  \n",
       "...             ...  \n",
       "7437           3.46  \n",
       "68591          3.46  \n",
       "12948          3.45  \n",
       "5308           3.42  \n",
       "52357          3.42  \n",
       "4900           3.42  \n",
       "12296          3.38  \n",
       "5246           3.36  \n",
       "13497818       3.28  \n",
       "35220          3.21  \n",
       "\n",
       "[2000 rows x 3 columns]"
      ]
     },
     "execution_count": 23,
     "metadata": {},
     "output_type": "execute_result"
    }
   ],
   "source": [
    "tabela3=knjige[['naslov','tocke', 'povprecje']].sort_values('povprecje', ascending=False)\n",
    "tabela3"
   ]
  },
  {
   "cell_type": "code",
   "execution_count": 42,
   "metadata": {},
   "outputs": [],
   "source": [
    "knjige['razred_povprecij'] = knjige.povprecje.round(decimals=0)"
   ]
  },
  {
   "cell_type": "code",
   "execution_count": 34,
   "metadata": {},
   "outputs": [
    {
     "data": {
      "text/plain": [
       "<matplotlib.axes._subplots.AxesSubplot at 0x1652961c160>"
      ]
     },
     "execution_count": 34,
     "metadata": {},
     "output_type": "execute_result"
    },
    {
     "data": {
      "image/png": "[encoded data removed]",
      "text/plain": [
       "<Figure size 432x288 with 1 Axes>"
      ]
     },
     "metadata": {
      "needs_background": "light"
     },
     "output_type": "display_data"
    }
   ],
   "source": [
    "a = knjige[:100].groupby('razred_povprecij').size()\n",
    "a.plot()"
   ]
  },
  {
   "cell_type": "code",
   "execution_count": 43,
   "metadata": {},
   "outputs": [
    {
     "data": {
      "text/plain": [
       "<matplotlib.axes._subplots.AxesSubplot at 0x1652b987cc0>"
      ]
     },
     "execution_count": 43,
     "metadata": {},
     "output_type": "execute_result"
    },
    {
     "data": {
      "image/png": "[encoded data removed]",
      "text/plain": [
       "<Figure size 432x288 with 1 Axes>"
      ]
     },
     "metadata": {
      "needs_background": "light"
     },
     "output_type": "display_data"
    }
   ],
   "source": [
    "knjige.sort_values('povprecje', ascending=False)[:100].groupby('razred_povprecij').size().plot()"
   ]
  },
  {
   "cell_type": "markdown",
   "metadata": {},
   "source": [
    "Zgornja dva grafa nam prikazujeta število knjig v posameznem razredu povprečij, pri čemer imamo pri prvem grafu 100 najboljših knjig razvrščenih po točkah v drugem pa po povprečjih. Glede na to da sta drugačne oblike, nam pove da se točke in povprečje ne ujemata. Poglejmo si kakašna bi bila pa grafa pri zadnjih 100 knjigah na lestvicama."
   ]
  },
  {
   "cell_type": "code",
   "execution_count": 48,
   "metadata": {},
   "outputs": [
    {
     "data": {
      "text/plain": [
       "<matplotlib.axes._subplots.AxesSubplot at 0x1652cb77048>"
      ]
     },
     "execution_count": 48,
     "metadata": {},
     "output_type": "execute_result"
    },
    {
     "data": {
      "image/png": "[encoded data removed]",
      "text/plain": [
       "<Figure size 432x288 with 1 Axes>"
      ]
     },
     "metadata": {
      "needs_background": "light"
     },
     "output_type": "display_data"
    }
   ],
   "source": [
    "knjige[100:].groupby('razred_povprecij').size().plot()"
   ]
  },
  {
   "cell_type": "code",
   "execution_count": 49,
   "metadata": {},
   "outputs": [
    {
     "data": {
      "text/plain": [
       "<matplotlib.axes._subplots.AxesSubplot at 0x1652cbe45c0>"
      ]
     },
     "execution_count": 49,
     "metadata": {},
     "output_type": "execute_result"
    },
    {
     "data": {
      "image/png": "[encoded data removed]",
      "text/plain": [
       "<Figure size 432x288 with 1 Axes>"
      ]
     },
     "metadata": {
      "needs_background": "light"
     },
     "output_type": "display_data"
    }
   ],
   "source": [
    "knjige.sort_values('povprecje', ascending=False)[100:].groupby('razred_povprecij').size().plot()"
   ]
  },
  {
   "cell_type": "markdown",
   "metadata": {},
   "source": [
    "Dobimo podobno situacijo kot prej le, da je graf zadnjih 100 knjig na seznamu urejenem po povprečju naraščajoči. Če zaključimo, lahko predpostavimo, da na vsakih 100 knjig v seznamu najboljših knjig s strani Goodreads najdemo knjige z različnimi povprečji, v razponu od najmanjših do največjih povprečij. Največ pa je knjig s povprečjem zaokroženim na 4. Vse skupaj nam potrdi, da povprečje in točke nista povezana med seboj, v smislu, da bi bil seznam razvrščen po povprečjih drugačen od seznama knjig razvrščenega po točkah."
   ]
  },
  {
   "cell_type": "code",
   "execution_count": null,
   "metadata": {},
   "outputs": [],
   "source": []
  }
 ],
 "metadata": {
  "kernelspec": {
   "display_name": "Python 3",
   "language": "python",
   "name": "python3"
  },
  "language_info": {
   "codemirror_mode": {
    "name": "ipython",
    "version": 3
   },
   "file_extension": ".py",
   "mimetype": "text/x-python",
   "name": "python",
   "nbconvert_exporter": "python",
   "pygments_lexer": "ipython3",
   "version": "3.6.3"
  }
 },
 "nbformat": 4,
 "nbformat_minor": 2
}
